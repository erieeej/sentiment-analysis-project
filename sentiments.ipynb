{
 "cells": [
  {
   "cell_type": "code",
   "execution_count": 2,
   "id": "088afb03",
   "metadata": {},
   "outputs": [
    {
     "name": "stdout",
     "output_type": "stream",
     "text": [
      "1.3.0\n"
     ]
    }
   ],
   "source": [
    "import sklearn\n",
    "print(sklearn.__version__)\n"
   ]
  },
  {
   "cell_type": "code",
   "execution_count": 11,
   "id": "3eab4b42",
   "metadata": {},
   "outputs": [],
   "source": [
    "import pandas as pd\n",
    "import matplotlib.pyplot as plt\n",
    "import seaborn as sns"
   ]
  },
  {
   "cell_type": "code",
   "execution_count": 12,
   "id": "ba9f4663",
   "metadata": {
    "scrolled": true
   },
   "outputs": [],
   "source": [
    "# Load the datasets\n",
    "training_data = pd.read_csv('sentimentsdata/twitter_training.csv')\n",
    "validation_data = pd.read_csv('sentimentsdata/twitter_validation.csv')\n"
   ]
  },
  {
   "cell_type": "code",
   "execution_count": 13,
   "id": "3d912a15",
   "metadata": {},
   "outputs": [
    {
     "name": "stdout",
     "output_type": "stream",
     "text": [
      "   2401  Borderlands  Positive  \\\n",
      "0  2401  Borderlands  Positive   \n",
      "1  2401  Borderlands  Positive   \n",
      "2  2401  Borderlands  Positive   \n",
      "3  2401  Borderlands  Positive   \n",
      "4  2401  Borderlands  Positive   \n",
      "\n",
      "  im getting on borderlands and i will murder you all ,  \n",
      "0  I am coming to the borders and I will kill you...     \n",
      "1  im getting on borderlands and i will kill you ...     \n",
      "2  im coming on borderlands and i will murder you...     \n",
      "3  im getting on borderlands 2 and i will murder ...     \n",
      "4  im getting into borderlands and i can murder y...     \n"
     ]
    }
   ],
   "source": [
    "# Display the first few rows of the training data\n",
    "print(training_data.head())"
   ]
  },
  {
   "cell_type": "code",
   "execution_count": 14,
   "id": "e6d66922",
   "metadata": {},
   "outputs": [
    {
     "name": "stdout",
     "output_type": "stream",
     "text": [
      "   3364   Facebook Irrelevant  \\\n",
      "0   352     Amazon    Neutral   \n",
      "1  8312  Microsoft   Negative   \n",
      "2  4371      CS-GO   Negative   \n",
      "3  4433     Google    Neutral   \n",
      "4  6273       FIFA   Negative   \n",
      "\n",
      "  I mentioned on Facebook that I was struggling for motivation to go for a run the other day, which has been translated by Tom’s great auntie as ‘Hayley can’t get out of bed’ and told to his grandma, who now thinks I’m a lazy, terrible person 🤣  \n",
      "0  BBC News - Amazon boss Jeff Bezos rejects clai...                                                                                                                                                                                                  \n",
      "1  @Microsoft Why do I pay for WORD when it funct...                                                                                                                                                                                                  \n",
      "2  CSGO matchmaking is so full of closet hacking,...                                                                                                                                                                                                  \n",
      "3  Now the President is slapping Americans in the...                                                                                                                                                                                                  \n",
      "4  Hi @EAHelp I’ve had Madeleine McCann in my cel...                                                                                                                                                                                                  \n"
     ]
    }
   ],
   "source": [
    "# Display the first few rows of the validation data\n",
    "print(validation_data.head())"
   ]
  },
  {
   "cell_type": "code",
   "execution_count": 15,
   "id": "be462dfe",
   "metadata": {},
   "outputs": [
    {
     "name": "stdout",
     "output_type": "stream",
     "text": [
      "(74681, 4)\n",
      "(999, 4)\n"
     ]
    }
   ],
   "source": [
    "# Check the shape and columns of the datasets\n",
    "print(training_data.shape)\n",
    "print(validation_data.shape)"
   ]
  },
  {
   "cell_type": "code",
   "execution_count": 16,
   "id": "d89cb8cd",
   "metadata": {},
   "outputs": [
    {
     "name": "stdout",
     "output_type": "stream",
     "text": [
      "2401                                                       0\n",
      "Borderlands                                                0\n",
      "Positive                                                   0\n",
      "im getting on borderlands and i will murder you all ,    686\n",
      "dtype: int64\n",
      "3364                                                                                                                                                                                                                                                  0\n",
      "Facebook                                                                                                                                                                                                                                              0\n",
      "Irrelevant                                                                                                                                                                                                                                            0\n",
      "I mentioned on Facebook that I was struggling for motivation to go for a run the other day, which has been translated by Tom’s great auntie as ‘Hayley can’t get out of bed’ and told to his grandma, who now thinks I’m a lazy, terrible person 🤣    0\n",
      "dtype: int64\n"
     ]
    }
   ],
   "source": [
    "# Check for missing values\n",
    "print(training_data.isnull().sum())\n",
    "print(validation_data.isnull().sum())"
   ]
  },
  {
   "cell_type": "code",
   "execution_count": 25,
   "id": "a4544674",
   "metadata": {},
   "outputs": [
    {
     "name": "stdout",
     "output_type": "stream",
     "text": [
      "      0            1         2  \\\n",
      "0  2401  Borderlands  Positive   \n",
      "1  2401  Borderlands  Positive   \n",
      "2  2401  Borderlands  Positive   \n",
      "3  2401  Borderlands  Positive   \n",
      "4  2401  Borderlands  Positive   \n",
      "\n",
      "                                                   3  \n",
      "0  im getting on borderlands and i will murder yo...  \n",
      "1  I am coming to the borders and I will kill you...  \n",
      "2  im getting on borderlands and i will kill you ...  \n",
      "3  im coming on borderlands and i will murder you...  \n",
      "4  im getting on borderlands 2 and i will murder ...  \n"
     ]
    }
   ],
   "source": [
    "import pandas as pd\n",
    "\n",
    "\n",
    "training_data = pd.read_csv('sentimentsdata/twitter_training.csv', delimiter=',', header=None)\n",
    "\n",
    "# Display the first few rows of the DataFrame\n",
    "print(training_data.head())\n"
   ]
  },
  {
   "cell_type": "code",
   "execution_count": 26,
   "id": "273e43f0",
   "metadata": {},
   "outputs": [
    {
     "name": "stdout",
     "output_type": "stream",
     "text": [
      "Index([0, 1, 2, 3], dtype='int64')\n"
     ]
    }
   ],
   "source": [
    "print(training_data.columns)"
   ]
  },
  {
   "cell_type": "code",
   "execution_count": 27,
   "id": "b127d422",
   "metadata": {
    "scrolled": true
   },
   "outputs": [
    {
     "name": "stdout",
     "output_type": "stream",
     "text": [
      "     id     platform sentiment  \\\n",
      "0  2401  Borderlands  Positive   \n",
      "1  2401  Borderlands  Positive   \n",
      "2  2401  Borderlands  Positive   \n",
      "3  2401  Borderlands  Positive   \n",
      "4  2401  Borderlands  Positive   \n",
      "\n",
      "                                                text  \n",
      "0  im getting on borderlands and i will murder yo...  \n",
      "1  I am coming to the borders and I will kill you...  \n",
      "2  im getting on borderlands and i will kill you ...  \n",
      "3  im coming on borderlands and i will murder you...  \n",
      "4  im getting on borderlands 2 and i will murder ...  \n"
     ]
    }
   ],
   "source": [
    "# Assigning column names\n",
    "training_data.columns = ['id', 'platform', 'sentiment', 'text']\n",
    "\n",
    "# Display the DataFrame with column names\n",
    "print(training_data.head())\n"
   ]
  },
  {
   "cell_type": "code",
   "execution_count": 34,
   "id": "cb999800",
   "metadata": {},
   "outputs": [
    {
     "name": "stdout",
     "output_type": "stream",
     "text": [
      "Training Data Missing Values:\n",
      "id             0\n",
      "platform       0\n",
      "sentiment      0\n",
      "text         686\n",
      "dtype: int64\n"
     ]
    }
   ],
   "source": [
    "# Check for missing values in training data\n",
    "print(\"Training Data Missing Values:\")\n",
    "print(training_data.isnull().sum())\n",
    "\n"
   ]
  },
  {
   "cell_type": "code",
   "execution_count": 33,
   "id": "8a675696",
   "metadata": {},
   "outputs": [
    {
     "name": "stdout",
     "output_type": "stream",
     "text": [
      "     id   platform   sentiment  \\\n",
      "0  3364   Facebook  Irrelevant   \n",
      "1   352     Amazon     Neutral   \n",
      "2  8312  Microsoft    Negative   \n",
      "3  4371      CS-GO    Negative   \n",
      "4  4433     Google     Neutral   \n",
      "\n",
      "                                                text  \n",
      "0  I mentioned on Facebook that I was struggling ...  \n",
      "1  BBC News - Amazon boss Jeff Bezos rejects clai...  \n",
      "2  @Microsoft Why do I pay for WORD when it funct...  \n",
      "3  CSGO matchmaking is so full of closet hacking,...  \n",
      "4  Now the President is slapping Americans in the...  \n"
     ]
    }
   ],
   "source": [
    "validation_data = pd.read_csv('sentimentsdata/twitter_validation.csv', delimiter=',', header=None)\n",
    "validation_data.columns = ['id', 'platform', 'sentiment', 'text']\n",
    "print(validation_data.head())"
   ]
  },
  {
   "cell_type": "code",
   "execution_count": 35,
   "id": "6204c736",
   "metadata": {},
   "outputs": [
    {
     "name": "stdout",
     "output_type": "stream",
     "text": [
      "\n",
      "Validation Data Missing Values:\n",
      "id           0\n",
      "platform     0\n",
      "sentiment    0\n",
      "text         0\n",
      "dtype: int64\n"
     ]
    }
   ],
   "source": [
    "\n",
    "# Check for missing values in validation data\n",
    "print(\"\\nValidation Data Missing Values:\")\n",
    "print(validation_data.isnull().sum())"
   ]
  },
  {
   "cell_type": "code",
   "execution_count": 36,
   "id": "a9740e4b",
   "metadata": {},
   "outputs": [
    {
     "name": "stdout",
     "output_type": "stream",
     "text": [
      "Index(['id', 'platform', 'sentiment', 'text'], dtype='object')\n",
      "Index(['id', 'platform', 'sentiment', 'text'], dtype='object')\n"
     ]
    }
   ],
   "source": [
    "print(training_data.columns)\n",
    "print(validation_data.columns)"
   ]
  },
  {
   "cell_type": "code",
   "execution_count": 37,
   "id": "299f5afc",
   "metadata": {},
   "outputs": [
    {
     "name": "stdout",
     "output_type": "stream",
     "text": [
      "<class 'pandas.core.frame.DataFrame'>\n",
      "RangeIndex: 74682 entries, 0 to 74681\n",
      "Data columns (total 4 columns):\n",
      " #   Column     Non-Null Count  Dtype \n",
      "---  ------     --------------  ----- \n",
      " 0   id         74682 non-null  int64 \n",
      " 1   platform   74682 non-null  object\n",
      " 2   sentiment  74682 non-null  object\n",
      " 3   text       73996 non-null  object\n",
      "dtypes: int64(1), object(3)\n",
      "memory usage: 2.3+ MB\n",
      "None\n",
      "<class 'pandas.core.frame.DataFrame'>\n",
      "RangeIndex: 1000 entries, 0 to 999\n",
      "Data columns (total 4 columns):\n",
      " #   Column     Non-Null Count  Dtype \n",
      "---  ------     --------------  ----- \n",
      " 0   id         1000 non-null   int64 \n",
      " 1   platform   1000 non-null   object\n",
      " 2   sentiment  1000 non-null   object\n",
      " 3   text       1000 non-null   object\n",
      "dtypes: int64(1), object(3)\n",
      "memory usage: 31.4+ KB\n",
      "None\n"
     ]
    }
   ],
   "source": [
    "print(training_data.info())\n",
    "print(validation_data.info())"
   ]
  },
  {
   "cell_type": "code",
   "execution_count": 39,
   "id": "67777de8",
   "metadata": {},
   "outputs": [
    {
     "name": "stdout",
     "output_type": "stream",
     "text": [
      "                                                text  \\\n",
      "0  im getting on borderlands and i will murder yo...   \n",
      "1  I am coming to the borders and I will kill you...   \n",
      "2  im getting on borderlands and i will kill you ...   \n",
      "3  im coming on borderlands and i will murder you...   \n",
      "4  im getting on borderlands 2 and i will murder ...   \n",
      "\n",
      "                                        cleaned_text  \n",
      "0  im getting on borderlands and i will murder yo...  \n",
      "1  I am coming to the borders and I will kill you...  \n",
      "2  im getting on borderlands and i will kill you ...  \n",
      "3  im coming on borderlands and i will murder you...  \n",
      "4  im getting on borderlands 2 and i will murder ...  \n"
     ]
    }
   ],
   "source": [
    "import re\n",
    "import pandas as pd\n",
    "\n",
    "def remove_urls(text):\n",
    "    if isinstance(text, str):  # Only apply the function to string values\n",
    "        return re.sub(r'http\\S+|www\\S+|https\\S+', '', text, flags=re.MULTILINE)\n",
    "    return ''  # Return an empty string if it's not a valid string\n",
    "\n",
    "# Apply the function to your dataset\n",
    "training_data['cleaned_text'] = training_data['text'].apply(remove_urls)\n",
    "\n",
    "# Check the cleaned data\n",
    "print(training_data[['text', 'cleaned_text']].head())\n"
   ]
  },
  {
   "cell_type": "code",
   "execution_count": 41,
   "id": "c347c735",
   "metadata": {},
   "outputs": [
    {
     "name": "stdout",
     "output_type": "stream",
     "text": [
      "                                                text  \\\n",
      "0  im getting on borderlands and i will murder yo...   \n",
      "1  I am coming to the borders and I will kill you...   \n",
      "2  im getting on borderlands and i will kill you ...   \n",
      "3  im coming on borderlands and i will murder you...   \n",
      "4  im getting on borderlands 2 and i will murder ...   \n",
      "\n",
      "                                        cleaned_text  \n",
      "0  im getting on borderlands and i will murder yo...  \n",
      "1  I am coming to the borders and I will kill you...  \n",
      "2  im getting on borderlands and i will kill you ...  \n",
      "3  im coming on borderlands and i will murder you...  \n",
      "4  im getting on borderlands 2 and i will murder ...  \n"
     ]
    }
   ],
   "source": [
    "def remove_mentions_hashtags(text):\n",
    "    return re.sub(r'@\\w+|#\\w+', '', text)\n",
    "\n",
    "training_data['cleaned_text'] = training_data['cleaned_text'].apply(remove_mentions_hashtags)\n",
    "print(training_data[['text', 'cleaned_text']].head())\n"
   ]
  },
  {
   "cell_type": "code",
   "execution_count": 42,
   "id": "ab39e152",
   "metadata": {},
   "outputs": [],
   "source": [
    "training_data['cleaned_text'] = training_data['cleaned_text'].str.lower()"
   ]
  },
  {
   "cell_type": "code",
   "execution_count": 43,
   "id": "ebbb03ef",
   "metadata": {},
   "outputs": [],
   "source": [
    "def remove_special_characters(text):\n",
    "    return re.sub(r'[^a-zA-Z\\s]', '', text)\n",
    "\n",
    "training_data['cleaned_text'] = training_data['cleaned_text'].apply(remove_special_characters)\n"
   ]
  },
  {
   "cell_type": "code",
   "execution_count": 46,
   "id": "da9a933d",
   "metadata": {},
   "outputs": [
    {
     "name": "stderr",
     "output_type": "stream",
     "text": [
      "[nltk_data] Downloading package stopwords to\n",
      "[nltk_data]     C:\\Users\\arijc\\AppData\\Roaming\\nltk_data...\n",
      "[nltk_data]   Unzipping corpora\\stopwords.zip.\n"
     ]
    }
   ],
   "source": [
    "import nltk\n",
    "from nltk.corpus import stopwords\n",
    "\n",
    "nltk.download('stopwords')\n",
    "stop_words = set(stopwords.words('english'))\n",
    "\n",
    "def remove_stopwords(text):\n",
    "    return ' '.join([word for word in text.split() if word not in stop_words])\n",
    "\n",
    "training_data['cleaned_text'] = training_data['cleaned_text'].apply(remove_stopwords)\n"
   ]
  },
  {
   "cell_type": "code",
   "execution_count": 47,
   "id": "e38b31e4",
   "metadata": {},
   "outputs": [
    {
     "name": "stdout",
     "output_type": "stream",
     "text": [
      "                                                text  \\\n",
      "0  im getting on borderlands and i will murder yo...   \n",
      "1  I am coming to the borders and I will kill you...   \n",
      "2  im getting on borderlands and i will kill you ...   \n",
      "3  im coming on borderlands and i will murder you...   \n",
      "4  im getting on borderlands 2 and i will murder ...   \n",
      "\n",
      "                    cleaned_text  \n",
      "0  im getting borderlands murder  \n",
      "1            coming borders kill  \n",
      "2    im getting borderlands kill  \n",
      "3   im coming borderlands murder  \n",
      "4  im getting borderlands murder  \n"
     ]
    }
   ],
   "source": [
    "print(training_data[['text', 'cleaned_text']].head())\n"
   ]
  },
  {
   "cell_type": "code",
   "execution_count": 48,
   "id": "5cdd9e99",
   "metadata": {},
   "outputs": [
    {
     "name": "stderr",
     "output_type": "stream",
     "text": [
      "[nltk_data] Downloading package punkt to\n",
      "[nltk_data]     C:\\Users\\arijc\\AppData\\Roaming\\nltk_data...\n",
      "[nltk_data]   Unzipping tokenizers\\punkt.zip.\n"
     ]
    }
   ],
   "source": [
    "from nltk.tokenize import word_tokenize\n",
    "\n",
    "nltk.download('punkt')\n",
    "\n",
    "training_data['tokens'] = training_data['cleaned_text'].apply(word_tokenize)\n"
   ]
  },
  {
   "cell_type": "code",
   "execution_count": 49,
   "id": "4107fb15",
   "metadata": {},
   "outputs": [
    {
     "name": "stdout",
     "output_type": "stream",
     "text": [
      "                                                text  \\\n",
      "0  im getting on borderlands and i will murder yo...   \n",
      "1  I am coming to the borders and I will kill you...   \n",
      "2  im getting on borderlands and i will kill you ...   \n",
      "3  im coming on borderlands and i will murder you...   \n",
      "4  im getting on borderlands 2 and i will murder ...   \n",
      "\n",
      "                    cleaned_text  \n",
      "0  im getting borderlands murder  \n",
      "1            coming borders kill  \n",
      "2    im getting borderlands kill  \n",
      "3   im coming borderlands murder  \n",
      "4  im getting borderlands murder  \n"
     ]
    }
   ],
   "source": [
    "print(training_data[['text', 'cleaned_text']].head())\n"
   ]
  },
  {
   "cell_type": "code",
   "execution_count": 50,
   "id": "7c4091b5",
   "metadata": {},
   "outputs": [],
   "source": [
    "# Drop rows with missing values\n",
    "training_data.dropna(subset=['text'], inplace=True)\n",
    "\n",
    "# Alternatively, you can fill missing values with a placeholder\n",
    "training_data['text'].fillna('missing', inplace=True)\n"
   ]
  },
  {
   "cell_type": "code",
   "execution_count": 51,
   "id": "39bacac1",
   "metadata": {
    "scrolled": true
   },
   "outputs": [
    {
     "name": "stdout",
     "output_type": "stream",
     "text": [
      "                                                text  \\\n",
      "0  im getting on borderlands and i will murder yo...   \n",
      "1  I am coming to the borders and I will kill you...   \n",
      "2  im getting on borderlands and i will kill you ...   \n",
      "3  im coming on borderlands and i will murder you...   \n",
      "4  im getting on borderlands 2 and i will murder ...   \n",
      "\n",
      "                    cleaned_text                              tokens  \n",
      "0  im getting borderlands murder  [im, getting, borderlands, murder]  \n",
      "1            coming borders kill             [coming, borders, kill]  \n",
      "2    im getting borderlands kill    [im, getting, borderlands, kill]  \n",
      "3   im coming borderlands murder   [im, coming, borderlands, murder]  \n",
      "4  im getting borderlands murder  [im, getting, borderlands, murder]  \n"
     ]
    }
   ],
   "source": [
    "print(training_data[['text', 'cleaned_text', 'tokens']].head())\n"
   ]
  },
  {
   "cell_type": "code",
   "execution_count": 55,
   "id": "f572c890",
   "metadata": {},
   "outputs": [
    {
     "name": "stderr",
     "output_type": "stream",
     "text": [
      "[nltk_data] Downloading package vader_lexicon to\n",
      "[nltk_data]     C:\\Users\\arijc\\AppData\\Roaming\\nltk_data...\n"
     ]
    },
    {
     "data": {
      "text/plain": [
       "True"
      ]
     },
     "execution_count": 55,
     "metadata": {},
     "output_type": "execute_result"
    }
   ],
   "source": [
    "import nltk\n",
    "nltk.download('vader_lexicon')\n"
   ]
  },
  {
   "cell_type": "code",
   "execution_count": 56,
   "id": "4a3295e7",
   "metadata": {},
   "outputs": [
    {
     "name": "stdout",
     "output_type": "stream",
     "text": [
      "                    cleaned_text  sentiment_score\n",
      "0  im getting borderlands murder          -0.6908\n",
      "1            coming borders kill          -0.6908\n",
      "2    im getting borderlands kill          -0.6908\n",
      "3   im coming borderlands murder          -0.6908\n",
      "4  im getting borderlands murder          -0.6908\n"
     ]
    }
   ],
   "source": [
    "from nltk.sentiment.vader import SentimentIntensityAnalyzer\n",
    "\n",
    "# Initialize the VADER sentiment analyzer\n",
    "sia = SentimentIntensityAnalyzer()\n",
    "\n",
    "# Apply sentiment analysis to each tweet and extract the compound score\n",
    "training_data['sentiment_score'] = training_data['cleaned_text'].apply(lambda x: sia.polarity_scores(x)['compound'])\n",
    "\n",
    "# View the results\n",
    "print(training_data[['cleaned_text', 'sentiment_score']].head())\n"
   ]
  },
  {
   "cell_type": "code",
   "execution_count": 57,
   "id": "2ad85926",
   "metadata": {},
   "outputs": [
    {
     "data": {
      "image/png": "[encoded data removed]",
      "text/plain": [
       "<Figure size 640x480 with 1 Axes>"
      ]
     },
     "metadata": {},
     "output_type": "display_data"
    }
   ],
   "source": [
    "import matplotlib.pyplot as plt\n",
    "import seaborn as sns\n",
    "\n",
    "# Create a histogram to visualize the sentiment distribution\n",
    "sns.histplot(training_data['sentiment_score'], bins=20, kde=True)\n",
    "plt.title('Sentiment Score Distribution')\n",
    "plt.xlabel('Sentiment Score')\n",
    "plt.ylabel('Frequency')\n",
    "plt.show()\n"
   ]
  },
  {
   "cell_type": "code",
   "execution_count": 59,
   "id": "13242a22",
   "metadata": {},
   "outputs": [
    {
     "name": "stdout",
     "output_type": "stream",
     "text": [
      "                                            cleaned_text  sentiment_score  \\\n",
      "0                          im getting borderlands murder          -0.6908   \n",
      "1                                    coming borders kill          -0.6908   \n",
      "2                            im getting borderlands kill          -0.6908   \n",
      "3                           im coming borderlands murder          -0.6908   \n",
      "4                          im getting borderlands murder          -0.6908   \n",
      "...                                                  ...              ...   \n",
      "74677  realized windows partition mac like years behi...           0.3612   \n",
      "74678  realized mac window partition years behind nvi...           0.0000   \n",
      "74679  realized windows partition mac years behind nv...           0.0000   \n",
      "74680  realized windows partition mac like years behi...           0.3612   \n",
      "74681  like windows partition mac like years behind d...           0.6124   \n",
      "\n",
      "      sentiment_category  \n",
      "0               negative  \n",
      "1               negative  \n",
      "2               negative  \n",
      "3               negative  \n",
      "4               negative  \n",
      "...                  ...  \n",
      "74677           positive  \n",
      "74678            neutral  \n",
      "74679            neutral  \n",
      "74680           positive  \n",
      "74681           positive  \n",
      "\n",
      "[73996 rows x 3 columns]\n"
     ]
    }
   ],
   "source": [
    "def categorize_sentiment(score):\n",
    "    if score > 0.05:\n",
    "        return 'positive'\n",
    "    elif score < -0.05:\n",
    "        return 'negative'\n",
    "    else:\n",
    "        return 'neutral'\n",
    "\n",
    "# Apply categorization\n",
    "training_data['sentiment_category'] = training_data['sentiment_score'].apply(categorize_sentiment)\n",
    "\n",
    "# View sentiment categories\n",
    "print(training_data[['cleaned_text', 'sentiment_score', 'sentiment_category']])\n"
   ]
  },
  {
   "cell_type": "code",
   "execution_count": null,
   "id": "ebb31379",
   "metadata": {},
   "outputs": [],
   "source": []
  }
 ],
 "metadata": {
  "kernelspec": {
   "display_name": "Python 3 (ipykernel)",
   "language": "python",
   "name": "python3"
  },
  "language_info": {
   "codemirror_mode": {
    "name": "ipython",
    "version": 3
   },
   "file_extension": ".py",
   "mimetype": "text/x-python",
   "name": "python",
   "nbconvert_exporter": "python",
   "pygments_lexer": "ipython3",
   "version": "3.11.5"
  }
 },
 "nbformat": 4,
 "nbformat_minor": 5
}
